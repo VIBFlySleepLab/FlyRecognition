{
 "cells": [
  {
   "cell_type": "markdown",
   "metadata": {
    "colab_type": "text",
    "id": "RK255E7YoEIt"
   },
   "source": [
    "# DeepLabCut Toolbox\n",
    "https://github.com/AlexEMG/DeepLabCut\n",
    "\n",
    "Nath\\*, Mathis\\* et al. *Using DeepLabCut for markerless pose estimation during behavior across species*, (under revision).\n",
    "\n",
    "This notebook demonstrates the necessary steps to use DeepLabCut for your own project.\n",
    "This shows the most simple code to do so, but many of the functions have additional features, so please check out the overview & the protocol paper!\n",
    "\n",
    "This notebook illustrates how to:\n",
    "- create a project\n",
    "- extract training frames\n",
    "- label the frames\n",
    "- plot the labeled images\n",
    "- create a training set\n",
    "- train a network\n",
    "- evaluate a network\n",
    "- analyze a novel video\n",
    "- create an automatically labeled video \n",
    "- plot the trajectories\n",
    "\n",
    "*Note*: Refine a network based after the network was trained on just a few labeled images is illustrated in \"Demo-labeledexample-MouseReaching.ipynb\". This demo also contains an already labeled data set and is perhaps the best starting point for brand new users."
   ]
  },
  {
   "cell_type": "markdown",
   "metadata": {
    "colab_type": "text",
    "id": "9Uoz9mdPoEIy"
   },
   "source": [
    "## Create a new project\n",
    "\n",
    "It is always good idea to keep the projects seperate. This function creates a new project with subdirectories and a basic configuration file in the user defined directory otherwise the project is created in the current working directory.\n",
    "\n",
    "You can always add new videos to the project at any stage of the project. "
   ]
  },
  {
   "cell_type": "code",
   "execution_count": 1,
   "metadata": {
    "colab": {},
    "colab_type": "code",
    "id": "jqLZhp7EoEI0"
   },
   "outputs": [
    {
     "data": {
      "text/plain": [
       "'2.0.4.1'"
      ]
     },
     "execution_count": 1,
     "metadata": {},
     "output_type": "execute_result"
    }
   ],
   "source": [
    "import deeplabcut\n",
    "import os\n",
    "deeplabcut.__version__"
   ]
  },
  {
   "cell_type": "code",
   "execution_count": 2,
   "metadata": {},
   "outputs": [
    {
     "name": "stdout",
     "output_type": "stream",
     "text": [
      "/home/antortjim/MEGA/FlySleepLab/FlyRecognition/DLC/examples\n"
     ]
    }
   ],
   "source": [
    "examples_dir = os.getcwd()\n",
    "print(examples_dir)\n",
    "# os.chdir('/home/antortjim/MEGA/FlySleepLab/FlyRecognition/DLC/examples')"
   ]
  },
  {
   "cell_type": "code",
   "execution_count": 3,
   "metadata": {
    "colab": {},
    "colab_type": "code",
    "id": "c9DjG55FoEI7"
   },
   "outputs": [],
   "source": [
    "task='Track_flies' # Enter the name of your experiment Task\n",
    "experimenter='Sayed' # Enter the name of the experimenter\n",
    "video=['/home/antortjim/MEGA/FlySleepLab/FlyRecognition/videos/main_videos/outpy04_reshaped_top.avi'] # Enter the paths of your videos you want to grab frames from.\n",
    "\n",
    "# path_config_file=deeplabcut.create_new_project(task,experimenter,video, working_directory=examples_dir, copy_videos=True) #change the working directory to where you want the folders created.\n",
    "\n",
    "# The function returns the path, where your project is. \n",
    "# You could also enter this manually (e.g. if the project is already created and you want to pick up, where you stopped...)\n",
    "path_config_file = \"/home/antortjim/MEGA/FlySleepLab/FlyRecognition/DLC/examples/Track_flies-Sayed-2019-02-20/config.yaml\""
   ]
  },
  {
   "cell_type": "markdown",
   "metadata": {
    "colab_type": "text",
    "id": "0yXW0bx1oEJA"
   },
   "source": [
    "## Extract frames from videos \n",
    "A key point for a successful feature detector is to select diverse frames, which are typical for the behavior you study that should be labeled.\n",
    "\n",
    "This function selects N frames either uniformly sampled from a particular video (or folder) (algo=='uniform'). Note: this might not yield diverse frames, if the behavior is sparsely distributed (consider using kmeans), and/or select frames manually etc.\n",
    "\n",
    "Also make sure to get select data from different (behavioral) sessions and different animals if those vary substantially (to train an invariant feature detector).\n",
    "\n",
    "Individual images should not be too big (i.e. < 850 x 850 pixel). Although this can be taken care of later as well, it is advisable to crop the frames, to remove unnecessary parts of the frame as much as possible.\n",
    "\n",
    "Always check the output of cropping. If you are happy with the results proceed to labeling."
   ]
  },
  {
   "cell_type": "code",
   "execution_count": 4,
   "metadata": {
    "colab": {},
    "colab_type": "code",
    "id": "t1ulumCuoEJC"
   },
   "outputs": [
    {
     "name": "stdout",
     "output_type": "stream",
     "text": [
      "Config file read successfully.\n",
      "Do you want to extract (perhaps additional) frames for video: /home/antortjim/MEGA/FlySleepLab/FlyRecognition/DLC/examples/Track_flies-Sayed-2019-02-20/videos/outpy04_reshaped_top.avi ?\n",
      "\n",
      "Frames were selected.\n",
      "You can now label the frames using the function 'label_frames' (if you extracted enough frames for all videos).\n"
     ]
    }
   ],
   "source": [
    "%matplotlib inline\n",
    "\n",
    "deeplabcut.extract_frames(path_config_file,'automatic','uniform',crop=True, checkcropping=True, ) #there are other ways to grab frames, such as by clustering 'kmeans'; please see the paper. \n",
    "#You can change the cropping to false, then delete the checkcropping part!"
   ]
  },
  {
   "cell_type": "markdown",
   "metadata": {
    "colab_type": "text",
    "id": "Gjn6ZDonoEJH"
   },
   "source": [
    "## Label the extracted frames\n",
    "Only videos in the config file can be used to extract the frames. Extracted labels for each video are stored in the project directory under the subdirectory **'labeled-data'**. Each subdirectory is named after the name of the video. The toolbox has a labeling toolbox which could be used for labeling. "
   ]
  },
  {
   "cell_type": "code",
   "execution_count": null,
   "metadata": {
    "colab": {},
    "colab_type": "code",
    "id": "iyROSOiEoEJI"
   },
   "outputs": [
    {
     "name": "stdout",
     "output_type": "stream",
     "text": [
      "Working on folder: outpy04_reshaped_top\n",
      "You can now check the labels, using 'check_labels' before proceeding. Then,  you can use the function 'create_training_dataset' to create the training dataset.\n"
     ]
    }
   ],
   "source": [
    "%gui wx\n",
    "deeplabcut.label_frames(path_config_file)"
   ]
  },
  {
   "cell_type": "markdown",
   "metadata": {
    "colab_type": "text",
    "id": "vim95ZvkPSeN"
   },
   "source": [
    "**Check the labels**\n",
    "\n",
    "Checking if the labels were created and stored correctly is beneficial for training, since labeling is one of the most critical parts for creating the training dataset. The DeepLabCut toolbox provides a function `check\\_labels'  to do so. It is used as follows:"
   ]
  },
  {
   "cell_type": "code",
   "execution_count": 4,
   "metadata": {
    "colab": {},
    "colab_type": "code",
    "id": "NwvgPJouPP2O"
   },
   "outputs": [
    {
     "name": "stdout",
     "output_type": "stream",
     "text": [
      "Creating images with labels by Sayed.\n",
      "They are stored in the following folder: /home/antortjim/MEGA/FlySleepLab/FlyRecognition/DLC/examples/Track_flies-Sayed-2019-02-20/labeled-data/outpy04_reshaped_top_labeled.\n",
      "If all the labels are ok, then use the function 'create_training_dataset' to create the training dataset!\n"
     ]
    }
   ],
   "source": [
    "deeplabcut.check_labels(path_config_file) #this creates a subdirectory with the frames + your labels"
   ]
  },
  {
   "cell_type": "markdown",
   "metadata": {
    "colab_type": "text",
    "id": "of87fOjgPqzH"
   },
   "source": [
    "If the labels need adjusted, you can use the refinement GUI to move them around! Check that out below."
   ]
  },
  {
   "cell_type": "markdown",
   "metadata": {
    "colab_type": "text",
    "id": "xNi9s1dboEJN"
   },
   "source": [
    "## Create a training dataset\n",
    "This function generates the training data information for DeepCut (which requires a mat file) based on the pandas dataframes that hold label information. The user can set the fraction of the training set size (from all labeled image in the hd5 file) in the config.yaml file. While creating the dataset, the user can create multiple shuffles. \n",
    "\n",
    "After running this script the training dataset is created and saved in the project directory under the subdirectory **'training-datasets'**\n",
    "\n",
    "This function also creates new subdirectories under **dlc-models** and appends the project config.yaml file with the correct path to the training and testing pose configuration file. These files hold the parameters for training the network. Such an example file is provided with the toolbox and named as **pose_cfg.yaml**.\n",
    "\n",
    "Now it is the time to start training the network!"
   ]
  },
  {
   "cell_type": "code",
   "execution_count": 6,
   "metadata": {
    "colab": {},
    "colab_type": "code",
    "id": "eMeUwgxPoEJP",
    "scrolled": true
   },
   "outputs": [
    {
     "name": "stdout",
     "output_type": "stream",
     "text": [
      "The training dataset is successfully created. Use the function 'train_network' to start training. Happy training!\n"
     ]
    }
   ],
   "source": [
    "deeplabcut.create_training_dataset(path_config_file)"
   ]
  },
  {
   "cell_type": "markdown",
   "metadata": {
    "colab_type": "text",
    "id": "c4FczXGDoEJU"
   },
   "source": [
    "## Start training - If you want to use a CPU, continue. \n",
    "### If yu want to use your GPU, you need to exit here and either work from the Docker container, your own TensorFlow installation in an Anaconda env\n",
    "\n",
    "This function trains the network for a specific shuffle of the training dataset. "
   ]
  },
  {
   "cell_type": "code",
   "execution_count": null,
   "metadata": {
    "colab": {},
    "colab_type": "code",
    "id": "_pOvDq_2oEJW"
   },
   "outputs": [
    {
     "name": "stderr",
     "output_type": "stream",
     "text": [
      "Config:\n",
      "{'all_joints': [[0]],\n",
      " 'all_joints_names': ['Fly1'],\n",
      " 'batch_size': 1,\n",
      " 'bottomheight': 400,\n",
      " 'crop': True,\n",
      " 'crop_pad': 0,\n",
      " 'cropratio': 0.4,\n",
      " 'dataset': 'training-datasets/iteration-0/UnaugmentedDataSet_Track_fliesFeb20/Track_flies_Sayed95shuffle1.mat',\n",
      " 'dataset_type': 'default',\n",
      " 'display_iters': 1000,\n",
      " 'fg_fraction': 0.25,\n",
      " 'global_scale': 0.8,\n",
      " 'init_weights': '/home/antortjim/anaconda3/envs/DLC/lib/python3.6/site-packages/deeplabcut/pose_estimation_tensorflow/models/pretrained/resnet_v1_50.ckpt',\n",
      " 'intermediate_supervision': False,\n",
      " 'intermediate_supervision_layer': 12,\n",
      " 'leftwidth': 400,\n",
      " 'location_refinement': True,\n",
      " 'locref_huber_loss': True,\n",
      " 'locref_loss_weight': 0.05,\n",
      " 'locref_stdev': 7.2801,\n",
      " 'log_dir': 'log',\n",
      " 'max_input_size': 1500,\n",
      " 'mean_pixel': [123.68, 116.779, 103.939],\n",
      " 'metadataset': 'training-datasets/iteration-0/UnaugmentedDataSet_Track_fliesFeb20/Documentation_data-Track_flies_95shuffle1.pickle',\n",
      " 'minsize': 100,\n",
      " 'mirror': False,\n",
      " 'multi_step': [[0.005, 10000],\n",
      "                [0.02, 430000],\n",
      "                [0.002, 730000],\n",
      "                [0.001, 1030000]],\n",
      " 'net_type': 'resnet_50',\n",
      " 'num_joints': 1,\n",
      " 'optimizer': 'sgd',\n",
      " 'pos_dist_thresh': 17,\n",
      " 'project_path': '/home/antortjim/MEGA/FlySleepLab/FlyRecognition/DLC/examples/Track_flies-Sayed-2019-02-20',\n",
      " 'regularize': False,\n",
      " 'rightwidth': 400,\n",
      " 'save_iters': 50000,\n",
      " 'scale_jitter_lo': 0.5,\n",
      " 'scale_jitter_up': 1.25,\n",
      " 'scoremap_dir': 'test',\n",
      " 'shuffle': True,\n",
      " 'snapshot_prefix': '/home/antortjim/MEGA/FlySleepLab/FlyRecognition/DLC/examples/Track_flies-Sayed-2019-02-20/dlc-models/iteration-0/Track_fliesFeb20-trainset95shuffle1/train/snapshot',\n",
      " 'stride': 8.0,\n",
      " 'topheight': 400,\n",
      " 'use_gt_segm': False,\n",
      " 'video': False,\n",
      " 'video_batch': False,\n",
      " 'weigh_negatives': False,\n",
      " 'weigh_only_present_joints': False,\n",
      " 'weigh_part_predictions': False,\n",
      " 'weight_decay': 0.0001}\n",
      "Config:\n",
      "{'all_joints': [[0]],\n",
      " 'all_joints_names': ['Fly1'],\n",
      " 'batch_size': 1,\n",
      " 'bottomheight': 400,\n",
      " 'crop': True,\n",
      " 'crop_pad': 0,\n",
      " 'cropratio': 0.4,\n",
      " 'dataset': 'training-datasets/iteration-0/UnaugmentedDataSet_Track_fliesFeb20/Track_flies_Sayed95shuffle1.mat',\n",
      " 'dataset_type': 'default',\n",
      " 'display_iters': 1000,\n",
      " 'fg_fraction': 0.25,\n",
      " 'global_scale': 0.8,\n",
      " 'init_weights': '/home/antortjim/anaconda3/envs/DLC/lib/python3.6/site-packages/deeplabcut/pose_estimation_tensorflow/models/pretrained/resnet_v1_50.ckpt',\n",
      " 'intermediate_supervision': False,\n",
      " 'intermediate_supervision_layer': 12,\n",
      " 'leftwidth': 400,\n",
      " 'location_refinement': True,\n",
      " 'locref_huber_loss': True,\n",
      " 'locref_loss_weight': 0.05,\n",
      " 'locref_stdev': 7.2801,\n",
      " 'log_dir': 'log',\n",
      " 'max_input_size': 1500,\n",
      " 'mean_pixel': [123.68, 116.779, 103.939],\n",
      " 'metadataset': 'training-datasets/iteration-0/UnaugmentedDataSet_Track_fliesFeb20/Documentation_data-Track_flies_95shuffle1.pickle',\n",
      " 'minsize': 100,\n",
      " 'mirror': False,\n",
      " 'multi_step': [[0.005, 10000],\n",
      "                [0.02, 430000],\n",
      "                [0.002, 730000],\n",
      "                [0.001, 1030000]],\n",
      " 'net_type': 'resnet_50',\n",
      " 'num_joints': 1,\n",
      " 'optimizer': 'sgd',\n",
      " 'pos_dist_thresh': 17,\n",
      " 'project_path': '/home/antortjim/MEGA/FlySleepLab/FlyRecognition/DLC/examples/Track_flies-Sayed-2019-02-20',\n",
      " 'regularize': False,\n",
      " 'rightwidth': 400,\n",
      " 'save_iters': 50000,\n",
      " 'scale_jitter_lo': 0.5,\n",
      " 'scale_jitter_up': 1.25,\n",
      " 'scoremap_dir': 'test',\n",
      " 'shuffle': True,\n",
      " 'snapshot_prefix': '/home/antortjim/MEGA/FlySleepLab/FlyRecognition/DLC/examples/Track_flies-Sayed-2019-02-20/dlc-models/iteration-0/Track_fliesFeb20-trainset95shuffle1/train/snapshot',\n",
      " 'stride': 8.0,\n",
      " 'topheight': 400,\n",
      " 'use_gt_segm': False,\n",
      " 'video': False,\n",
      " 'video_batch': False,\n",
      " 'weigh_negatives': False,\n",
      " 'weigh_only_present_joints': False,\n",
      " 'weigh_part_predictions': False,\n",
      " 'weight_decay': 0.0001}\n",
      "Config:\n",
      "{'all_joints': [[0]],\n",
      " 'all_joints_names': ['Fly1'],\n",
      " 'batch_size': 1,\n",
      " 'bottomheight': 400,\n",
      " 'crop': True,\n",
      " 'crop_pad': 0,\n",
      " 'cropratio': 0.4,\n",
      " 'dataset': 'training-datasets/iteration-0/UnaugmentedDataSet_Track_fliesFeb20/Track_flies_Sayed95shuffle1.mat',\n",
      " 'dataset_type': 'default',\n",
      " 'display_iters': 1000,\n",
      " 'fg_fraction': 0.25,\n",
      " 'global_scale': 0.8,\n",
      " 'init_weights': '/home/antortjim/anaconda3/envs/DLC/lib/python3.6/site-packages/deeplabcut/pose_estimation_tensorflow/models/pretrained/resnet_v1_50.ckpt',\n",
      " 'intermediate_supervision': False,\n",
      " 'intermediate_supervision_layer': 12,\n",
      " 'leftwidth': 400,\n",
      " 'location_refinement': True,\n",
      " 'locref_huber_loss': True,\n",
      " 'locref_loss_weight': 0.05,\n",
      " 'locref_stdev': 7.2801,\n",
      " 'log_dir': 'log',\n",
      " 'max_input_size': 1500,\n",
      " 'mean_pixel': [123.68, 116.779, 103.939],\n",
      " 'metadataset': 'training-datasets/iteration-0/UnaugmentedDataSet_Track_fliesFeb20/Documentation_data-Track_flies_95shuffle1.pickle',\n",
      " 'minsize': 100,\n",
      " 'mirror': False,\n",
      " 'multi_step': [[0.005, 10000],\n",
      "                [0.02, 430000],\n",
      "                [0.002, 730000],\n",
      "                [0.001, 1030000]],\n",
      " 'net_type': 'resnet_50',\n",
      " 'num_joints': 1,\n",
      " 'optimizer': 'sgd',\n",
      " 'pos_dist_thresh': 17,\n",
      " 'project_path': '/home/antortjim/MEGA/FlySleepLab/FlyRecognition/DLC/examples/Track_flies-Sayed-2019-02-20',\n",
      " 'regularize': False,\n",
      " 'rightwidth': 400,\n",
      " 'save_iters': 50000,\n",
      " 'scale_jitter_lo': 0.5,\n",
      " 'scale_jitter_up': 1.25,\n",
      " 'scoremap_dir': 'test',\n",
      " 'shuffle': True,\n",
      " 'snapshot_prefix': '/home/antortjim/MEGA/FlySleepLab/FlyRecognition/DLC/examples/Track_flies-Sayed-2019-02-20/dlc-models/iteration-0/Track_fliesFeb20-trainset95shuffle1/train/snapshot',\n",
      " 'stride': 8.0,\n",
      " 'topheight': 400,\n",
      " 'use_gt_segm': False,\n",
      " 'video': False,\n",
      " 'video_batch': False,\n",
      " 'weigh_negatives': False,\n",
      " 'weigh_only_present_joints': False,\n",
      " 'weigh_part_predictions': False,\n",
      " 'weight_decay': 0.0001}\n"
     ]
    },
    {
     "name": "stdout",
     "output_type": "stream",
     "text": [
      "INFO:tensorflow:Restoring parameters from /home/antortjim/anaconda3/envs/DLC/lib/python3.6/site-packages/deeplabcut/pose_estimation_tensorflow/models/pretrained/resnet_v1_50.ckpt\n"
     ]
    },
    {
     "name": "stderr",
     "output_type": "stream",
     "text": [
      "Restoring parameters from /home/antortjim/anaconda3/envs/DLC/lib/python3.6/site-packages/deeplabcut/pose_estimation_tensorflow/models/pretrained/resnet_v1_50.ckpt\n",
      "Restoring parameters from /home/antortjim/anaconda3/envs/DLC/lib/python3.6/site-packages/deeplabcut/pose_estimation_tensorflow/models/pretrained/resnet_v1_50.ckpt\n",
      "Restoring parameters from /home/antortjim/anaconda3/envs/DLC/lib/python3.6/site-packages/deeplabcut/pose_estimation_tensorflow/models/pretrained/resnet_v1_50.ckpt\n"
     ]
    },
    {
     "name": "stdout",
     "output_type": "stream",
     "text": [
      "Display_iters overwritten as 100\n",
      "Save_iters overwritten as 1000\n",
      "Training parameter:\n",
      "{'stride': 8.0, 'weigh_part_predictions': False, 'weigh_negatives': False, 'fg_fraction': 0.25, 'weigh_only_present_joints': False, 'mean_pixel': [123.68, 116.779, 103.939], 'shuffle': True, 'snapshot_prefix': '/home/antortjim/MEGA/FlySleepLab/FlyRecognition/DLC/examples/Track_flies-Sayed-2019-02-20/dlc-models/iteration-0/Track_fliesFeb20-trainset95shuffle1/train/snapshot', 'log_dir': 'log', 'global_scale': 0.8, 'location_refinement': True, 'locref_stdev': 7.2801, 'locref_loss_weight': 0.05, 'locref_huber_loss': True, 'optimizer': 'sgd', 'intermediate_supervision': False, 'intermediate_supervision_layer': 12, 'regularize': False, 'weight_decay': 0.0001, 'mirror': False, 'crop_pad': 0, 'scoremap_dir': 'test', 'dataset_type': 'default', 'use_gt_segm': False, 'batch_size': 1, 'video': False, 'video_batch': False, 'crop': True, 'cropratio': 0.4, 'minsize': 100, 'leftwidth': 400, 'rightwidth': 400, 'topheight': 400, 'bottomheight': 400, 'all_joints': [[0]], 'all_joints_names': ['Fly1'], 'dataset': 'training-datasets/iteration-0/UnaugmentedDataSet_Track_fliesFeb20/Track_flies_Sayed95shuffle1.mat', 'display_iters': 1000, 'init_weights': '/home/antortjim/anaconda3/envs/DLC/lib/python3.6/site-packages/deeplabcut/pose_estimation_tensorflow/models/pretrained/resnet_v1_50.ckpt', 'max_input_size': 1500, 'metadataset': 'training-datasets/iteration-0/UnaugmentedDataSet_Track_fliesFeb20/Documentation_data-Track_flies_95shuffle1.pickle', 'multi_step': [[0.005, 10000], [0.02, 430000], [0.002, 730000], [0.001, 1030000]], 'net_type': 'resnet_50', 'num_joints': 1, 'pos_dist_thresh': 17, 'project_path': '/home/antortjim/MEGA/FlySleepLab/FlyRecognition/DLC/examples/Track_flies-Sayed-2019-02-20', 'save_iters': 50000, 'scale_jitter_lo': 0.5, 'scale_jitter_up': 1.25}\n",
      "Starting training....\n"
     ]
    },
    {
     "name": "stderr",
     "output_type": "stream",
     "text": [
      "iteration: 100 loss: 0.0420 lr: 0.005\n",
      "iteration: 100 loss: 0.0420 lr: 0.005\n",
      "iteration: 100 loss: 0.0420 lr: 0.005\n",
      "iteration: 200 loss: 0.0125 lr: 0.005\n",
      "iteration: 200 loss: 0.0125 lr: 0.005\n",
      "iteration: 200 loss: 0.0125 lr: 0.005\n",
      "iteration: 300 loss: 0.0084 lr: 0.005\n",
      "iteration: 300 loss: 0.0084 lr: 0.005\n",
      "iteration: 300 loss: 0.0084 lr: 0.005\n",
      "iteration: 400 loss: 0.0067 lr: 0.005\n",
      "iteration: 400 loss: 0.0067 lr: 0.005\n",
      "iteration: 400 loss: 0.0067 lr: 0.005\n",
      "iteration: 500 loss: 0.0068 lr: 0.005\n",
      "iteration: 500 loss: 0.0068 lr: 0.005\n",
      "iteration: 500 loss: 0.0068 lr: 0.005\n",
      "iteration: 600 loss: 0.0050 lr: 0.005\n",
      "iteration: 600 loss: 0.0050 lr: 0.005\n",
      "iteration: 600 loss: 0.0050 lr: 0.005\n",
      "iteration: 700 loss: 0.0044 lr: 0.005\n",
      "iteration: 700 loss: 0.0044 lr: 0.005\n",
      "iteration: 700 loss: 0.0044 lr: 0.005\n",
      "iteration: 800 loss: 0.0044 lr: 0.005\n",
      "iteration: 800 loss: 0.0044 lr: 0.005\n",
      "iteration: 800 loss: 0.0044 lr: 0.005\n",
      "iteration: 900 loss: 0.0046 lr: 0.005\n",
      "iteration: 900 loss: 0.0046 lr: 0.005\n",
      "iteration: 900 loss: 0.0046 lr: 0.005\n",
      "iteration: 1000 loss: 0.0038 lr: 0.005\n",
      "iteration: 1000 loss: 0.0038 lr: 0.005\n",
      "iteration: 1000 loss: 0.0038 lr: 0.005\n",
      "iteration: 1100 loss: 0.0038 lr: 0.005\n",
      "iteration: 1100 loss: 0.0038 lr: 0.005\n",
      "iteration: 1100 loss: 0.0038 lr: 0.005\n",
      "iteration: 1200 loss: 0.0038 lr: 0.005\n",
      "iteration: 1200 loss: 0.0038 lr: 0.005\n",
      "iteration: 1200 loss: 0.0038 lr: 0.005\n",
      "iteration: 1300 loss: 0.0036 lr: 0.005\n",
      "iteration: 1300 loss: 0.0036 lr: 0.005\n",
      "iteration: 1300 loss: 0.0036 lr: 0.005\n",
      "iteration: 1400 loss: 0.0039 lr: 0.005\n",
      "iteration: 1400 loss: 0.0039 lr: 0.005\n",
      "iteration: 1400 loss: 0.0039 lr: 0.005\n",
      "iteration: 1500 loss: 0.0038 lr: 0.005\n",
      "iteration: 1500 loss: 0.0038 lr: 0.005\n",
      "iteration: 1500 loss: 0.0038 lr: 0.005\n",
      "iteration: 1600 loss: 0.0034 lr: 0.005\n",
      "iteration: 1600 loss: 0.0034 lr: 0.005\n",
      "iteration: 1600 loss: 0.0034 lr: 0.005\n",
      "iteration: 1700 loss: 0.0032 lr: 0.005\n",
      "iteration: 1700 loss: 0.0032 lr: 0.005\n",
      "iteration: 1700 loss: 0.0032 lr: 0.005\n",
      "iteration: 1800 loss: 0.0034 lr: 0.005\n",
      "iteration: 1800 loss: 0.0034 lr: 0.005\n",
      "iteration: 1800 loss: 0.0034 lr: 0.005\n",
      "iteration: 1900 loss: 0.0029 lr: 0.005\n",
      "iteration: 1900 loss: 0.0029 lr: 0.005\n",
      "iteration: 1900 loss: 0.0029 lr: 0.005\n",
      "iteration: 2000 loss: 0.0037 lr: 0.005\n",
      "iteration: 2000 loss: 0.0037 lr: 0.005\n",
      "iteration: 2000 loss: 0.0037 lr: 0.005\n",
      "iteration: 2100 loss: 0.0031 lr: 0.005\n",
      "iteration: 2100 loss: 0.0031 lr: 0.005\n",
      "iteration: 2100 loss: 0.0031 lr: 0.005\n",
      "iteration: 2200 loss: 0.0038 lr: 0.005\n",
      "iteration: 2200 loss: 0.0038 lr: 0.005\n",
      "iteration: 2200 loss: 0.0038 lr: 0.005\n",
      "iteration: 2300 loss: 0.0033 lr: 0.005\n",
      "iteration: 2300 loss: 0.0033 lr: 0.005\n",
      "iteration: 2300 loss: 0.0033 lr: 0.005\n",
      "iteration: 2400 loss: 0.0029 lr: 0.005\n",
      "iteration: 2400 loss: 0.0029 lr: 0.005\n",
      "iteration: 2400 loss: 0.0029 lr: 0.005\n",
      "iteration: 2500 loss: 0.0030 lr: 0.005\n",
      "iteration: 2500 loss: 0.0030 lr: 0.005\n",
      "iteration: 2500 loss: 0.0030 lr: 0.005\n",
      "iteration: 2600 loss: 0.0028 lr: 0.005\n",
      "iteration: 2600 loss: 0.0028 lr: 0.005\n",
      "iteration: 2600 loss: 0.0028 lr: 0.005\n",
      "iteration: 2700 loss: 0.0032 lr: 0.005\n",
      "iteration: 2700 loss: 0.0032 lr: 0.005\n",
      "iteration: 2700 loss: 0.0032 lr: 0.005\n"
     ]
    }
   ],
   "source": [
    "deeplabcut.train_network(path_config_file, displayiters=100, saveiters=1000)"
   ]
  },
  {
   "cell_type": "markdown",
   "metadata": {
    "colab_type": "text",
    "id": "xZygsb2DoEJc"
   },
   "source": [
    "## Start evaluating\n",
    "This funtion evaluates a trained model for a specific shuffle/shuffles at a particular state or all the states on the data set (images)\n",
    "and stores the results as .csv file in a subdirectory under **evaluation-results**"
   ]
  },
  {
   "cell_type": "code",
   "execution_count": 9,
   "metadata": {
    "colab": {},
    "colab_type": "code",
    "id": "nv4zlbrnoEJg"
   },
   "outputs": [
    {
     "name": "stderr",
     "output_type": "stream",
     "text": [
      "Config:\n",
      "{'all_joints': [[0]],\n",
      " 'all_joints_names': ['Separator'],\n",
      " 'batch_size': 1,\n",
      " 'bottomheight': 400,\n",
      " 'crop': True,\n",
      " 'crop_pad': 0,\n",
      " 'cropratio': 0.4,\n",
      " 'dataset': 'training-datasets/iteration-0/UnaugmentedDataSet_FlyFeb20/Fly_Sayed95shuffle1.mat',\n",
      " 'dataset_type': 'default',\n",
      " 'display_iters': 1000,\n",
      " 'fg_fraction': 0.25,\n",
      " 'global_scale': 0.8,\n",
      " 'init_weights': '/home/antortjim/anaconda3/envs/DLC/lib/python3.6/site-packages/deeplabcut/pose_estimation_tensorflow/models/pretrained/resnet_v1_50.ckpt',\n",
      " 'intermediate_supervision': False,\n",
      " 'intermediate_supervision_layer': 12,\n",
      " 'leftwidth': 400,\n",
      " 'location_refinement': True,\n",
      " 'locref_huber_loss': True,\n",
      " 'locref_loss_weight': 0.05,\n",
      " 'locref_stdev': 7.2801,\n",
      " 'log_dir': 'log',\n",
      " 'max_input_size': 1500,\n",
      " 'mean_pixel': [123.68, 116.779, 103.939],\n",
      " 'metadataset': 'training-datasets/iteration-0/UnaugmentedDataSet_FlyFeb20/Documentation_data-Fly_95shuffle1.pickle',\n",
      " 'minsize': 100,\n",
      " 'mirror': False,\n",
      " 'multi_step': [[0.005, 10000],\n",
      "                [0.02, 430000],\n",
      "                [0.002, 730000],\n",
      "                [0.001, 1030000]],\n",
      " 'net_type': 'resnet_50',\n",
      " 'num_joints': 1,\n",
      " 'optimizer': 'sgd',\n",
      " 'pos_dist_thresh': 17,\n",
      " 'project_path': '/home/antortjim/MEGA/FlySleepLab/FlyRecognition/DLC/examples/Fly-Sayed-2019-02-20',\n",
      " 'regularize': False,\n",
      " 'rightwidth': 400,\n",
      " 'save_iters': 50000,\n",
      " 'scale_jitter_lo': 0.5,\n",
      " 'scale_jitter_up': 1.25,\n",
      " 'scoremap_dir': 'test',\n",
      " 'shuffle': True,\n",
      " 'snapshot_prefix': '/home/antortjim/MEGA/FlySleepLab/FlyRecognition/DLC/examples/Fly-Sayed-2019-02-20/dlc-models/iteration-0/FlyFeb20-trainset95shuffle1/test/snapshot',\n",
      " 'stride': 8.0,\n",
      " 'topheight': 400,\n",
      " 'use_gt_segm': False,\n",
      " 'video': False,\n",
      " 'video_batch': False,\n",
      " 'weigh_negatives': False,\n",
      " 'weigh_only_present_joints': False,\n",
      " 'weigh_part_predictions': False,\n",
      " 'weight_decay': 0.0001}\n",
      "Config:\n",
      "{'all_joints': [[0]],\n",
      " 'all_joints_names': ['Separator'],\n",
      " 'batch_size': 1,\n",
      " 'bottomheight': 400,\n",
      " 'crop': True,\n",
      " 'crop_pad': 0,\n",
      " 'cropratio': 0.4,\n",
      " 'dataset': 'training-datasets/iteration-0/UnaugmentedDataSet_FlyFeb20/Fly_Sayed95shuffle1.mat',\n",
      " 'dataset_type': 'default',\n",
      " 'display_iters': 1000,\n",
      " 'fg_fraction': 0.25,\n",
      " 'global_scale': 0.8,\n",
      " 'init_weights': '/home/antortjim/anaconda3/envs/DLC/lib/python3.6/site-packages/deeplabcut/pose_estimation_tensorflow/models/pretrained/resnet_v1_50.ckpt',\n",
      " 'intermediate_supervision': False,\n",
      " 'intermediate_supervision_layer': 12,\n",
      " 'leftwidth': 400,\n",
      " 'location_refinement': True,\n",
      " 'locref_huber_loss': True,\n",
      " 'locref_loss_weight': 0.05,\n",
      " 'locref_stdev': 7.2801,\n",
      " 'log_dir': 'log',\n",
      " 'max_input_size': 1500,\n",
      " 'mean_pixel': [123.68, 116.779, 103.939],\n",
      " 'metadataset': 'training-datasets/iteration-0/UnaugmentedDataSet_FlyFeb20/Documentation_data-Fly_95shuffle1.pickle',\n",
      " 'minsize': 100,\n",
      " 'mirror': False,\n",
      " 'multi_step': [[0.005, 10000],\n",
      "                [0.02, 430000],\n",
      "                [0.002, 730000],\n",
      "                [0.001, 1030000]],\n",
      " 'net_type': 'resnet_50',\n",
      " 'num_joints': 1,\n",
      " 'optimizer': 'sgd',\n",
      " 'pos_dist_thresh': 17,\n",
      " 'project_path': '/home/antortjim/MEGA/FlySleepLab/FlyRecognition/DLC/examples/Fly-Sayed-2019-02-20',\n",
      " 'regularize': False,\n",
      " 'rightwidth': 400,\n",
      " 'save_iters': 50000,\n",
      " 'scale_jitter_lo': 0.5,\n",
      " 'scale_jitter_up': 1.25,\n",
      " 'scoremap_dir': 'test',\n",
      " 'shuffle': True,\n",
      " 'snapshot_prefix': '/home/antortjim/MEGA/FlySleepLab/FlyRecognition/DLC/examples/Fly-Sayed-2019-02-20/dlc-models/iteration-0/FlyFeb20-trainset95shuffle1/test/snapshot',\n",
      " 'stride': 8.0,\n",
      " 'topheight': 400,\n",
      " 'use_gt_segm': False,\n",
      " 'video': False,\n",
      " 'video_batch': False,\n",
      " 'weigh_negatives': False,\n",
      " 'weigh_only_present_joints': False,\n",
      " 'weigh_part_predictions': False,\n",
      " 'weight_decay': 0.0001}\n"
     ]
    },
    {
     "name": "stdout",
     "output_type": "stream",
     "text": [
      "Running  DeepCut_resnet50_FlyFeb20shuffle1_200  with # of trainingiterations: 200\n",
      "INFO:tensorflow:Restoring parameters from /home/antortjim/MEGA/FlySleepLab/FlyRecognition/DLC/examples/Fly-Sayed-2019-02-20/dlc-models/iteration-0/FlyFeb20-trainset95shuffle1/train/snapshot-200\n"
     ]
    },
    {
     "name": "stderr",
     "output_type": "stream",
     "text": [
      "Restoring parameters from /home/antortjim/MEGA/FlySleepLab/FlyRecognition/DLC/examples/Fly-Sayed-2019-02-20/dlc-models/iteration-0/FlyFeb20-trainset95shuffle1/train/snapshot-200\n",
      "Restoring parameters from /home/antortjim/MEGA/FlySleepLab/FlyRecognition/DLC/examples/Fly-Sayed-2019-02-20/dlc-models/iteration-0/FlyFeb20-trainset95shuffle1/train/snapshot-200\n",
      "\r",
      "0it [00:00, ?it/s]"
     ]
    },
    {
     "name": "stdout",
     "output_type": "stream",
     "text": [
      "Analyzing data...\n"
     ]
    },
    {
     "name": "stderr",
     "output_type": "stream",
     "text": [
      "\r",
      "1it [00:01,  1.76s/it]\r",
      "2it [00:03,  1.69s/it]\r",
      "3it [00:04,  1.61s/it]\r",
      "4it [00:06,  1.54s/it]\r",
      "5it [00:07,  1.46s/it]\r",
      "6it [00:08,  1.40s/it]\r",
      "7it [00:09,  1.35s/it]\r",
      "8it [00:11,  1.32s/it]\r",
      "9it [00:12,  1.30s/it]\r",
      "10it [00:13,  1.28s/it]\r",
      "11it [00:14,  1.27s/it]\r",
      "12it [00:16,  1.25s/it]\r",
      "13it [00:17,  1.26s/it]\r",
      "14it [00:18,  1.26s/it]\r",
      "15it [00:19,  1.25s/it]\r",
      "16it [00:21,  1.24s/it]\r",
      "17it [00:22,  1.26s/it]\r",
      "18it [00:23,  1.28s/it]\r",
      "19it [00:24,  1.30s/it]\r",
      "20it [00:26,  1.30s/it]\n"
     ]
    },
    {
     "name": "stdout",
     "output_type": "stream",
     "text": [
      "Done and results stored for snapshot:  snapshot-200\n",
      "Results for 200  training iterations: 95 1 train error: 308.79 pixels. Test error: 308.4  pixels.\n",
      "With pcutoff of 0.1  train error: 308.79 pixels. Test error: 308.4 pixels\n",
      "Thereby, the errors are given by the average distances between the labels by DLC and the scorer.\n",
      "The network is evaluated and the results are stored in the subdirectory 'evaluation_results'.\n",
      "If it generalizes well, choose the best model for prediction and update the config file with the appropriate index for the 'snapshotindex'.\n",
      "Use the function 'analyze_video' to make predictions on new videos.\n",
      "Otherwise consider retraining the network (see DeepLabCut workflow Fig 2)\n"
     ]
    }
   ],
   "source": [
    "deeplabcut.evaluate_network(path_config_file)"
   ]
  },
  {
   "cell_type": "markdown",
   "metadata": {
    "colab_type": "text",
    "id": "OVFLSKKfoEJk"
   },
   "source": [
    "## Start Analyzing videos\n",
    "This function analyzes the new video. The user can choose the best model from the evaluation results and specify the correct snapshot index for the variable **snapshotindex** in the **config.yaml** file. Otherwise, by default the most recent snapshot is used to analyse the video.\n",
    "\n",
    "The results are stored in hd5 file in the same directory where the video resides. "
   ]
  },
  {
   "cell_type": "code",
   "execution_count": 7,
   "metadata": {
    "colab": {},
    "colab_type": "code",
    "id": "Y_LZiS_0oEJl"
   },
   "outputs": [
    {
     "name": "stderr",
     "output_type": "stream",
     "text": [
      "Config:\n",
      "{'all_joints': [[0]],\n",
      " 'all_joints_names': ['Fly1'],\n",
      " 'batch_size': 1,\n",
      " 'bottomheight': 400,\n",
      " 'crop': True,\n",
      " 'crop_pad': 0,\n",
      " 'cropratio': 0.4,\n",
      " 'dataset': 'training-datasets/iteration-0/UnaugmentedDataSet_Track_fliesFeb20/Track_flies_Sayed95shuffle1.mat',\n",
      " 'dataset_type': 'default',\n",
      " 'display_iters': 1000,\n",
      " 'fg_fraction': 0.25,\n",
      " 'global_scale': 0.8,\n",
      " 'init_weights': '/home/antortjim/anaconda3/envs/DLC/lib/python3.6/site-packages/deeplabcut/pose_estimation_tensorflow/models/pretrained/resnet_v1_50.ckpt',\n",
      " 'intermediate_supervision': False,\n",
      " 'intermediate_supervision_layer': 12,\n",
      " 'leftwidth': 400,\n",
      " 'location_refinement': True,\n",
      " 'locref_huber_loss': True,\n",
      " 'locref_loss_weight': 0.05,\n",
      " 'locref_stdev': 7.2801,\n",
      " 'log_dir': 'log',\n",
      " 'max_input_size': 1500,\n",
      " 'mean_pixel': [123.68, 116.779, 103.939],\n",
      " 'metadataset': 'training-datasets/iteration-0/UnaugmentedDataSet_Track_fliesFeb20/Documentation_data-Track_flies_95shuffle1.pickle',\n",
      " 'minsize': 100,\n",
      " 'mirror': False,\n",
      " 'multi_step': [[0.005, 10000],\n",
      "                [0.02, 430000],\n",
      "                [0.002, 730000],\n",
      "                [0.001, 1030000]],\n",
      " 'net_type': 'resnet_50',\n",
      " 'num_joints': 1,\n",
      " 'optimizer': 'sgd',\n",
      " 'pos_dist_thresh': 17,\n",
      " 'project_path': '/home/antortjim/MEGA/FlySleepLab/FlyRecognition/DLC/examples/Track_flies-Sayed-2019-02-20',\n",
      " 'regularize': False,\n",
      " 'rightwidth': 400,\n",
      " 'save_iters': 50000,\n",
      " 'scale_jitter_lo': 0.5,\n",
      " 'scale_jitter_up': 1.25,\n",
      " 'scoremap_dir': 'test',\n",
      " 'shuffle': True,\n",
      " 'snapshot_prefix': '/home/antortjim/MEGA/FlySleepLab/FlyRecognition/DLC/examples/Track_flies-Sayed-2019-02-20/dlc-models/iteration-0/Track_fliesFeb20-trainset95shuffle1/test/snapshot',\n",
      " 'stride': 8.0,\n",
      " 'topheight': 400,\n",
      " 'use_gt_segm': False,\n",
      " 'video': False,\n",
      " 'video_batch': False,\n",
      " 'weigh_negatives': False,\n",
      " 'weigh_only_present_joints': False,\n",
      " 'weigh_part_predictions': False,\n",
      " 'weight_decay': 0.0001}\n"
     ]
    },
    {
     "name": "stdout",
     "output_type": "stream",
     "text": [
      "Using snapshot-200 for model /home/antortjim/MEGA/FlySleepLab/FlyRecognition/DLC/examples/Track_flies-Sayed-2019-02-20/dlc-models/iteration-0/Track_fliesFeb20-trainset95shuffle1\n",
      "INFO:tensorflow:Restoring parameters from /home/antortjim/MEGA/FlySleepLab/FlyRecognition/DLC/examples/Track_flies-Sayed-2019-02-20/dlc-models/iteration-0/Track_fliesFeb20-trainset95shuffle1/train/snapshot-200\n"
     ]
    },
    {
     "name": "stderr",
     "output_type": "stream",
     "text": [
      "Restoring parameters from /home/antortjim/MEGA/FlySleepLab/FlyRecognition/DLC/examples/Track_flies-Sayed-2019-02-20/dlc-models/iteration-0/Track_fliesFeb20-trainset95shuffle1/train/snapshot-200\n",
      "\r",
      "  0%|          | 0/223 [00:00<?, ?it/s]"
     ]
    },
    {
     "name": "stdout",
     "output_type": "stream",
     "text": [
      "Starting to analyze %  /home/antortjim/MEGA/FlySleepLab/FlyRecognition/videos/main_videos/outpy05_reshaped_top.avi\n",
      "Loading  /home/antortjim/MEGA/FlySleepLab/FlyRecognition/videos/main_videos/outpy05_reshaped_top.avi\n",
      "Duration of video [s]:  22.3 , recorded with  10.0 fps!\n",
      "Overall # of frames:  223  found with (before cropping) frame dimensions:  832 372\n",
      "Starting to extract posture\n"
     ]
    },
    {
     "name": "stderr",
     "output_type": "stream",
     "text": [
      "\r",
      "  9%|▉         | 20/223 [00:05<00:53,  3.76it/s]\r",
      " 13%|█▎        | 30/223 [00:12<01:18,  2.46it/s]\r",
      " 18%|█▊        | 40/223 [00:17<01:19,  2.31it/s]\r",
      " 22%|██▏       | 50/223 [00:24<01:30,  1.91it/s]\r",
      " 27%|██▋       | 60/223 [00:29<01:23,  1.94it/s]\r",
      " 31%|███▏      | 70/223 [00:37<01:31,  1.67it/s]\r",
      " 36%|███▌      | 80/223 [00:42<01:21,  1.76it/s]\r",
      " 40%|████      | 90/223 [00:50<01:22,  1.61it/s]\r",
      " 45%|████▍     | 100/223 [00:55<01:11,  1.71it/s]\r",
      " 49%|████▉     | 110/223 [01:02<01:11,  1.58it/s]\r",
      " 54%|█████▍    | 120/223 [01:07<01:00,  1.69it/s]\r",
      " 58%|█████▊    | 130/223 [01:15<00:59,  1.57it/s]\r",
      " 63%|██████▎   | 140/223 [01:19<00:49,  1.68it/s]\r",
      " 67%|██████▋   | 150/223 [01:27<00:46,  1.57it/s]\r",
      " 72%|███████▏  | 160/223 [01:32<00:37,  1.68it/s]\r",
      " 76%|███████▌  | 170/223 [01:39<00:33,  1.57it/s]\r",
      " 81%|████████  | 180/223 [01:44<00:25,  1.68it/s]\r",
      " 85%|████████▌ | 190/223 [01:52<00:21,  1.56it/s]\r",
      " 90%|████████▉ | 200/223 [01:57<00:13,  1.67it/s]\r",
      " 94%|█████████▍| 210/223 [02:04<00:08,  1.55it/s]\r",
      " 99%|█████████▊| 220/223 [02:09<00:01,  1.67it/s]\r",
      "230it [02:17,  1.55it/s]                         "
     ]
    },
    {
     "name": "stdout",
     "output_type": "stream",
     "text": [
      "Detected frames:  223\n"
     ]
    },
    {
     "name": "stderr",
     "output_type": "stream",
     "text": [
      "\n",
      "\r",
      "  0%|          | 0/223 [00:00<?, ?it/s]"
     ]
    },
    {
     "name": "stdout",
     "output_type": "stream",
     "text": [
      "Saving results in /home/antortjim/MEGA/FlySleepLab/FlyRecognition/videos/main_videos...\n",
      "Starting to analyze %  /home/antortjim/MEGA/FlySleepLab/FlyRecognition/videos/main_videos/outpy05_reshaped_bottom.avi\n",
      "Loading  /home/antortjim/MEGA/FlySleepLab/FlyRecognition/videos/main_videos/outpy05_reshaped_bottom.avi\n",
      "Duration of video [s]:  22.3 , recorded with  10.0 fps!\n",
      "Overall # of frames:  223  found with (before cropping) frame dimensions:  832 372\n",
      "Starting to extract posture\n"
     ]
    },
    {
     "name": "stderr",
     "output_type": "stream",
     "text": [
      "\r",
      "  9%|▉         | 20/223 [00:05<00:53,  3.78it/s]\r",
      " 13%|█▎        | 30/223 [00:12<01:19,  2.42it/s]\r",
      " 18%|█▊        | 40/223 [00:18<01:22,  2.22it/s]\r",
      " 22%|██▏       | 50/223 [00:25<01:33,  1.84it/s]\r",
      " 27%|██▋       | 60/223 [00:30<01:26,  1.89it/s]\r",
      " 31%|███▏      | 70/223 [00:38<01:30,  1.69it/s]\r",
      " 36%|███▌      | 80/223 [00:43<01:20,  1.78it/s]\r",
      " 40%|████      | 90/223 [00:50<01:21,  1.62it/s]\r",
      " 45%|████▍     | 100/223 [00:55<01:11,  1.72it/s]\r",
      " 49%|████▉     | 110/223 [01:02<01:10,  1.59it/s]\r",
      " 54%|█████▍    | 120/223 [01:07<01:00,  1.70it/s]\r",
      " 58%|█████▊    | 130/223 [01:15<00:58,  1.58it/s]\r",
      " 63%|██████▎   | 140/223 [01:20<00:49,  1.69it/s]\r",
      " 67%|██████▋   | 150/223 [01:27<00:46,  1.57it/s]\r",
      " 72%|███████▏  | 160/223 [01:32<00:37,  1.69it/s]\r",
      " 76%|███████▌  | 170/223 [01:39<00:33,  1.57it/s]\r",
      " 81%|████████  | 180/223 [01:44<00:25,  1.68it/s]\r",
      " 85%|████████▌ | 190/223 [01:52<00:21,  1.57it/s]\r",
      " 90%|████████▉ | 200/223 [01:57<00:13,  1.68it/s]\r",
      " 94%|█████████▍| 210/223 [02:04<00:08,  1.57it/s]\r",
      " 99%|█████████▊| 220/223 [02:09<00:01,  1.68it/s]\r",
      "230it [02:17,  1.54it/s]                         "
     ]
    },
    {
     "name": "stdout",
     "output_type": "stream",
     "text": [
      "Detected frames:  223\n",
      "Saving results in /home/antortjim/MEGA/FlySleepLab/FlyRecognition/videos/main_videos...\n",
      "The videos are analyzed. Now your research can truly start! \n",
      " You can create labeled videos with 'create_labeled_video'.\n",
      "If the tracking is not satisfactory for some videos, consider expanding the training set. You can use the function 'extract_outlier_frames' to extract any outlier frames!\n"
     ]
    },
    {
     "name": "stderr",
     "output_type": "stream",
     "text": [
      "\n"
     ]
    }
   ],
   "source": [
    "videofile_path = [\"/home/antortjim/MEGA/FlySleepLab/FlyRecognition/videos/main_videos/outpy05_reshaped_top.avi\",\n",
    "                  \"/home/antortjim/MEGA/FlySleepLab/FlyRecognition/videos/main_videos/outpy05_reshaped_bottom.avi\"] #Enter the list of videos to analyze.\n",
    "deeplabcut.analyze_videos(path_config_file,videofile_path)"
   ]
  },
  {
   "cell_type": "markdown",
   "metadata": {
    "colab_type": "text",
    "id": "iGu_PdTWoEJr"
   },
   "source": [
    "## Extract outlier frames [optional step]\n",
    "This is an optional step and is used only when the evaluation results are poor i.e. the labels are incorrectly predicted. In such a case, the user can use the following function to extract frames where the labels are incorrectly predicted. Make sure to provide the correct value of the \"iterations\" as it will be used to create the unique directory where the extracted frames will be saved."
   ]
  },
  {
   "cell_type": "code",
   "execution_count": null,
   "metadata": {
    "colab": {},
    "colab_type": "code",
    "id": "gkbaBOJVoEJs"
   },
   "outputs": [],
   "source": [
    "deeplabcut.extract_outlier_frames(path_config_file,['/videos/video3.avi'])"
   ]
  },
  {
   "cell_type": "markdown",
   "metadata": {
    "colab_type": "text",
    "id": "8ib0uvhaoEJx"
   },
   "source": [
    "## Refine Labels [optional step]\n",
    "Following the extraction of outlier frames, the user can use the following function to move the predicted labels to the correct location. Thus augmenting the training dataset."
   ]
  },
  {
   "cell_type": "code",
   "execution_count": 7,
   "metadata": {
    "colab": {},
    "colab_type": "code",
    "id": "n_FpEXtyoEJy"
   },
   "outputs": [
    {
     "name": "stderr",
     "output_type": "stream",
     "text": [
      "ERROR:root:Cannot activate multiple GUI eventloops\n"
     ]
    },
    {
     "name": "stdout",
     "output_type": "stream",
     "text": [
      "/home/antortjim/MEGA/FlySleepLab/FlyRecognition/DLC/examples/Moving-Antonio-2019-02-19/labeled-data/moving_hand\n",
      "Checking labels if they are outside the image\n",
      "A training dataset file is already found for this video. The refined machine labels are merged to this data!\n",
      "Closing... The refined labels are stored in a subdirectory under labeled-data. Use the function 'merge_datasets' to augment the training dataset, and then re-train a network using create_training_dataset followed by train_network!\n"
     ]
    }
   ],
   "source": [
    "%gui wx\n",
    "deeplabcut.refine_labels(path_config_file)"
   ]
  },
  {
   "cell_type": "code",
   "execution_count": null,
   "metadata": {
    "colab": {},
    "colab_type": "code",
    "id": "CHzstWr8oEJ2"
   },
   "outputs": [],
   "source": [
    "#Once all folders are relabeled, check them and advance. See how to check labels, above!\n",
    "deeplabcut.merge_datasets(path_config_file)"
   ]
  },
  {
   "cell_type": "markdown",
   "metadata": {
    "colab_type": "text",
    "id": "QCHj7qyboEJ6"
   },
   "source": [
    "## Create a new iteration of training dataset [optional step]\n",
    "Following the refine labels, append these frames to the original dataset to create a new iteration of training dataset."
   ]
  },
  {
   "cell_type": "code",
   "execution_count": null,
   "metadata": {
    "colab": {},
    "colab_type": "code",
    "id": "ytQoxIldoEJ7"
   },
   "outputs": [],
   "source": [
    "deeplabcut.create_training_dataset(path_config_file)"
   ]
  },
  {
   "cell_type": "markdown",
   "metadata": {
    "colab_type": "text",
    "id": "pCrUvQIvoEKD"
   },
   "source": [
    "## Create labeled video\n",
    "This funtion is for visualiztion purpose and can be used to create a video in .mp4 format with labels predicted by the network. This video is saved in the same directory where the original video resides. "
   ]
  },
  {
   "cell_type": "code",
   "execution_count": 8,
   "metadata": {
    "colab": {},
    "colab_type": "code",
    "id": "6aDF7Q7KoEKE"
   },
   "outputs": [
    {
     "name": "stderr",
     "output_type": "stream",
     "text": [
      "\r",
      "  0%|          | 0/223 [00:00<?, ?it/s]\r",
      " 19%|█▉        | 42/223 [00:00<00:00, 414.88it/s]"
     ]
    },
    {
     "name": "stdout",
     "output_type": "stream",
     "text": [
      "Starting %  /home/antortjim/MEGA/FlySleepLab/FlyRecognition/videos/main_videos ['/home/antortjim/MEGA/FlySleepLab/FlyRecognition/videos/main_videos/outpy05_reshaped_top.avi', '/home/antortjim/MEGA/FlySleepLab/FlyRecognition/videos/main_videos/outpy05_reshaped_bottom.avi']\n",
      "Loading  /home/antortjim/MEGA/FlySleepLab/FlyRecognition/videos/main_videos/outpy05_reshaped_top.avi and data.\n",
      "False 0 832 0 372\n",
      "223\n",
      "Duration of video [s]:  22.3 , recorded with  10.0 fps!\n",
      "Overall # of frames:  223 with cropped frame dimensions:  832 372\n",
      "Generating frames and creating video.\n"
     ]
    },
    {
     "name": "stderr",
     "output_type": "stream",
     "text": [
      "\r",
      " 39%|███▊      | 86/223 [00:00<00:00, 419.83it/s]\r",
      " 60%|█████▉    | 133/223 [00:00<00:00, 432.38it/s]\r",
      " 82%|████████▏ | 182/223 [00:00<00:00, 447.77it/s]\r",
      "100%|██████████| 223/223 [00:00<00:00, 455.25it/s]\n",
      "\r",
      "  0%|          | 0/223 [00:00<?, ?it/s]\r",
      " 19%|█▉        | 42/223 [00:00<00:00, 411.29it/s]"
     ]
    },
    {
     "name": "stdout",
     "output_type": "stream",
     "text": [
      "Starting %  /home/antortjim/MEGA/FlySleepLab/FlyRecognition/videos/main_videos ['/home/antortjim/MEGA/FlySleepLab/FlyRecognition/videos/main_videos/outpy05_reshaped_top.avi', '/home/antortjim/MEGA/FlySleepLab/FlyRecognition/videos/main_videos/outpy05_reshaped_bottom.avi']\n",
      "Loading  /home/antortjim/MEGA/FlySleepLab/FlyRecognition/videos/main_videos/outpy05_reshaped_bottom.avi and data.\n",
      "False 0 832 0 372\n",
      "223\n",
      "Duration of video [s]:  22.3 , recorded with  10.0 fps!\n",
      "Overall # of frames:  223 with cropped frame dimensions:  832 372\n",
      "Generating frames and creating video.\n"
     ]
    },
    {
     "name": "stderr",
     "output_type": "stream",
     "text": [
      "\r",
      " 37%|███▋      | 82/223 [00:00<00:00, 407.75it/s]\r",
      " 54%|█████▍    | 121/223 [00:00<00:00, 399.93it/s]\r",
      " 72%|███████▏  | 160/223 [00:00<00:00, 396.86it/s]\r",
      " 90%|████████▉ | 200/223 [00:00<00:00, 396.40it/s]\r",
      "100%|██████████| 223/223 [00:00<00:00, 393.65it/s]\n"
     ]
    }
   ],
   "source": [
    "deeplabcut.create_labeled_video(path_config_file,videofile_path)"
   ]
  },
  {
   "cell_type": "markdown",
   "metadata": {
    "colab_type": "text",
    "id": "8GTiuJESoEKH"
   },
   "source": [
    "## Plot the trajectories of the analyzed videos\n",
    "This function plots the trajectories of all the body parts across the entire video. Each body part is identified by a unique color."
   ]
  },
  {
   "cell_type": "code",
   "execution_count": null,
   "metadata": {
    "colab": {},
    "colab_type": "code",
    "id": "gX21zZbXoEKJ"
   },
   "outputs": [],
   "source": [
    "%matplotlib notebook #for making interactive plots.\n",
    "deeplabcut.plot_trajectories(path_config_file,videofile_path)"
   ]
  }
 ],
 "metadata": {
  "accelerator": "GPU",
  "colab": {
   "name": "Demo-yourowndata.ipynb",
   "provenance": [],
   "version": "0.3.2"
  },
  "kernelspec": {
   "display_name": "DLC",
   "language": "python",
   "name": "dlc"
  },
  "language_info": {
   "codemirror_mode": {
    "name": "ipython",
    "version": 3
   },
   "file_extension": ".py",
   "mimetype": "text/x-python",
   "name": "python",
   "nbconvert_exporter": "python",
   "pygments_lexer": "ipython3",
   "version": "3.6.8"
  },
  "varInspector": {
   "cols": {
    "lenName": 16,
    "lenType": 16,
    "lenVar": 40
   },
   "kernels_config": {
    "python": {
     "delete_cmd_postfix": "",
     "delete_cmd_prefix": "del ",
     "library": "var_list.py",
     "varRefreshCmd": "print(var_dic_list())"
    },
    "r": {
     "delete_cmd_postfix": ") ",
     "delete_cmd_prefix": "rm(",
     "library": "var_list.r",
     "varRefreshCmd": "cat(var_dic_list()) "
    }
   },
   "types_to_exclude": [
    "module",
    "function",
    "builtin_function_or_method",
    "instance",
    "_Feature"
   ],
   "window_display": false
  }
 },
 "nbformat": 4,
 "nbformat_minor": 2
}
